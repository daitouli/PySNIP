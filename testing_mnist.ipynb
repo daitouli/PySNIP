{
  "nbformat": 4,
  "nbformat_minor": 0,
  "metadata": {
    "kernelspec": {
      "name": "python3",
      "display_name": "Python 3"
    },
    "language_info": {
      "codemirror_mode": {
        "name": "ipython",
        "version": 3
      },
      "file_extension": ".py",
      "mimetype": "text/x-python",
      "name": "python",
      "nbconvert_exporter": "python",
      "pygments_lexer": "ipython3",
      "version": "3.6.7"
    },
    "colab": {
      "name": "Untitled.ipynb",
      "version": "0.3.2",
      "provenance": []
    },
    "accelerator": "GPU"
  },
  "cells": [
    {
      "cell_type": "code",
      "metadata": {
        "id": "k4LyfUd2TtuQ",
        "colab_type": "code",
        "colab": {}
      },
      "source": [
        "import torch\n",
        "import torch.nn as nn\n",
        "import numpy as np\n",
        "import copy\n",
        "from torchvision.datasets import MNIST, CIFAR10\n",
        "from torch.utils.data import DataLoader\n",
        "from torchvision import transforms\n",
        "import torch.nn.functional as F\n",
        "from snip_prunner import Prunner"
      ],
      "execution_count": 0,
      "outputs": []
    },
    {
      "cell_type": "code",
      "metadata": {
        "id": "oq7mllZHTtuX",
        "colab_type": "code",
        "colab": {}
      },
      "source": [
        "class LinearLayer(nn.Module):\n",
        "    def __init__(self, input_dim, output_dim, act='relu', use_bn=False):\n",
        "        super(LinearLayer, self).__init__()\n",
        "        self.use_bn = use_bn\n",
        "        self.lin = nn.Linear(input_dim, output_dim)\n",
        "        self.act = nn.ReLU() if act == 'relu' else act\n",
        "        if use_bn:\n",
        "            self.bn = nn.BatchNorm1d(output_dim)\n",
        "    def forward(self, x):\n",
        "        if self.use_bn:\n",
        "            return self.bn(self.act(self.lin(x)))\n",
        "        return self.act(self.lin(x))"
      ],
      "execution_count": 0,
      "outputs": []
    },
    {
      "cell_type": "code",
      "metadata": {
        "id": "DuPsr2jjTtue",
        "colab_type": "code",
        "colab": {}
      },
      "source": [
        "class Net(nn.Module):\n",
        "    def __init__(self, in_dims, hid_dims, out_dims):\n",
        "        super(Net, self).__init__()\n",
        "        self.layers = nn.Sequential(LinearLayer(in_dims, hid_dims, use_bn=True),\n",
        "                                   LinearLayer(hid_dims, hid_dims, use_bn=True),\n",
        "                                   nn.Linear(hid_dims, out_dims))\n",
        "    def forward(self, x):\n",
        "        return self.layers(x.view(x.shape[0], -1))"
      ],
      "execution_count": 0,
      "outputs": []
    },
    {
      "cell_type": "code",
      "metadata": {
        "id": "FCUF85yCTtui",
        "colab_type": "code",
        "colab": {}
      },
      "source": [
        "torch.manual_seed(2019)\n",
        "model = Net(784, 300, 10)\n",
        "train_ds = MNIST('../data/', train=True, transform=transforms.ToTensor(), download=True)\n",
        "val_ds = MNIST('../data/', train=False, transform=transforms.ToTensor(), download=True)\n",
        "train_dl = DataLoader(train_ds, batch_size=100, shuffle=True)\n",
        "val_dl = DataLoader(val_ds, batch_size=100, shuffle=True)\n",
        "criterion = nn.CrossEntropyLoss()\n",
        "prunner = Prunner(model, criterion, train_dl)"
      ],
      "execution_count": 0,
      "outputs": []
    },
    {
      "cell_type": "code",
      "metadata": {
        "id": "ZnddfRNfTtum",
        "colab_type": "code",
        "colab": {}
      },
      "source": [
        "model, masks = prunner.prun(compression_factor=0.98, num_batch_sampling=1)"
      ],
      "execution_count": 0,
      "outputs": []
    },
    {
      "cell_type": "code",
      "metadata": {
        "id": "uGNx-jNOTtuq",
        "colab_type": "code",
        "colab": {
          "base_uri": "https://localhost:8080/",
          "height": 191
        },
        "outputId": "a321a4f5-b277-4153-e1a4-ad0adcb4345f"
      },
      "source": [
        "for n, w in model.named_parameters():\n",
        "    print(n, (w != 0).sum())"
      ],
      "execution_count": 36,
      "outputs": [
        {
          "output_type": "stream",
          "text": [
            "layers.0.lin.weight tensor(3840, device='cuda:0')\n",
            "layers.0.lin.bias tensor(300, device='cuda:0')\n",
            "layers.0.bn.weight tensor(300, device='cuda:0')\n",
            "layers.0.bn.bias tensor(0, device='cuda:0')\n",
            "layers.1.lin.weight tensor(1899, device='cuda:0')\n",
            "layers.1.lin.bias tensor(300, device='cuda:0')\n",
            "layers.1.bn.weight tensor(300, device='cuda:0')\n",
            "layers.1.bn.bias tensor(0, device='cuda:0')\n",
            "layers.2.weight tensor(824, device='cuda:0')\n",
            "layers.2.bias tensor(10, device='cuda:0')\n"
          ],
          "name": "stdout"
        }
      ]
    },
    {
      "cell_type": "code",
      "metadata": {
        "id": "rfErx_gYTtuw",
        "colab_type": "code",
        "colab": {
          "base_uri": "https://localhost:8080/",
          "height": 69
        },
        "outputId": "180eb56a-022c-4197-b13f-620ee52f8fa3"
      },
      "source": [
        "for mask in masks:\n",
        "    print(mask.sum())"
      ],
      "execution_count": 37,
      "outputs": [
        {
          "output_type": "stream",
          "text": [
            "tensor(3840., device='cuda:0')\n",
            "tensor(1899., device='cuda:0')\n",
            "tensor(824., device='cuda:0')\n"
          ],
          "name": "stdout"
        }
      ]
    },
    {
      "cell_type": "code",
      "metadata": {
        "id": "uFlZHWH7Ttuz",
        "colab_type": "code",
        "colab": {}
      },
      "source": [
        "from torched.trainer_utils import Train"
      ],
      "execution_count": 0,
      "outputs": []
    },
    {
      "cell_type": "code",
      "metadata": {
        "id": "iRoGaJC-Ttu3",
        "colab_type": "code",
        "colab": {}
      },
      "source": [
        "trainer = Train(model, [train_dl, val_dl], cuda=True)"
      ],
      "execution_count": 0,
      "outputs": []
    },
    {
      "cell_type": "code",
      "metadata": {
        "id": "MuH5uLUHTtu7",
        "colab_type": "code",
        "colab": {
          "base_uri": "https://localhost:8080/",
          "height": 35
        },
        "outputId": "08334a4a-ac06-4f80-c489-9690803ff193"
      },
      "source": [
        "trainer.lr_find(crit=criterion, opt='adamW')"
      ],
      "execution_count": 40,
      "outputs": [
        {
          "output_type": "stream",
          "text": [
            "Train Loss 0.744214:  66%|██████▌   | 394/600 [00:06<00:03, 62.06it/s]\n"
          ],
          "name": "stderr"
        }
      ]
    },
    {
      "cell_type": "code",
      "metadata": {
        "id": "823Z-KndTtvA",
        "colab_type": "code",
        "colab": {
          "base_uri": "https://localhost:8080/",
          "height": 273
        },
        "outputId": "d32991a2-1432-4bee-8fad-d8343dabbba7"
      },
      "source": [
        "trainer.plot_lrs()"
      ],
      "execution_count": 41,
      "outputs": [
        {
          "output_type": "display_data",
          "data": {
            "image/png": "[encoded data removed]",
            "text/plain": [
              "<Figure size 432x288 with 1 Axes>"
            ]
          },
          "metadata": {
            "tags": []
          }
        }
      ]
    },
    {
      "cell_type": "code",
      "metadata": {
        "id": "jsYXyR_BTtvE",
        "colab_type": "code",
        "colab": {
          "base_uri": "https://localhost:8080/",
          "height": 260
        },
        "outputId": "0e23969b-8a5d-45a7-8fd9-8013286ea155"
      },
      "source": [
        "trainer.train(1e-4, 3, 2, criterion, opt='adamW')"
      ],
      "execution_count": 42,
      "outputs": [
        {
          "output_type": "display_data",
          "data": {
            "application/vnd.jupyter.widget-view+json": {
              "model_id": "91f627ceece24456a32355e62f3208dd",
              "version_minor": 0,
              "version_major": 2
            },
            "text/plain": [
              "HBox(children=(IntProgress(value=0, max=7), HTML(value='')))"
            ]
          },
          "metadata": {
            "tags": []
          }
        },
        {
          "output_type": "stream",
          "text": [
            "Train Loss 1.502261: 100%|██████████| 600/600 [00:10<00:00, 58.65it/s]\n",
            "Valid Loss 1.200479: 100%|██████████| 100/100 [00:01<00:00, 85.08it/s]\n",
            "Train Loss 0.813754: 100%|██████████| 600/600 [00:10<00:00, 50.12it/s]\n",
            "Valid Loss 0.559981: 100%|██████████| 100/100 [00:01<00:00, 84.20it/s]\n",
            "Train Loss 0.545776: 100%|██████████| 600/600 [00:10<00:00, 58.79it/s]\n",
            "Valid Loss 0.498388: 100%|██████████| 100/100 [00:01<00:00, 85.93it/s]\n",
            "Train Loss 0.427372: 100%|██████████| 600/600 [00:10<00:00, 59.48it/s]\n",
            "Valid Loss 0.330076: 100%|██████████| 100/100 [00:01<00:00, 83.81it/s]\n",
            "Train Loss 0.320786: 100%|██████████| 600/600 [00:09<00:00, 60.25it/s]\n",
            "Valid Loss 0.272724: 100%|██████████| 100/100 [00:01<00:00, 86.45it/s]\n",
            "Train Loss 0.281855: 100%|██████████| 600/600 [00:10<00:00, 59.19it/s]\n",
            "Valid Loss 0.254479: 100%|██████████| 100/100 [00:01<00:00, 85.24it/s]\n",
            "Train Loss 0.269442: 100%|██████████| 600/600 [00:10<00:00, 59.53it/s]\n",
            "Valid Loss 0.250065: 100%|██████████| 100/100 [00:01<00:00, 85.42it/s]\n"
          ],
          "name": "stderr"
        }
      ]
    },
    {
      "cell_type": "code",
      "metadata": {
        "id": "XxM1SZJjTtvI",
        "colab_type": "code",
        "colab": {
          "base_uri": "https://localhost:8080/",
          "height": 191
        },
        "outputId": "7147be3c-2ba2-48b4-b2dd-d616a5f13a98"
      },
      "source": [
        "for n, w in trainer.model.named_parameters():\n",
        "    print(n, (w != 0).sum())"
      ],
      "execution_count": 43,
      "outputs": [
        {
          "output_type": "stream",
          "text": [
            "layers.0.lin.weight tensor(3840, device='cuda:0')\n",
            "layers.0.lin.bias tensor(300, device='cuda:0')\n",
            "layers.0.bn.weight tensor(300, device='cuda:0')\n",
            "layers.0.bn.bias tensor(216, device='cuda:0')\n",
            "layers.1.lin.weight tensor(1899, device='cuda:0')\n",
            "layers.1.lin.bias tensor(300, device='cuda:0')\n",
            "layers.1.bn.weight tensor(300, device='cuda:0')\n",
            "layers.1.bn.bias tensor(238, device='cuda:0')\n",
            "layers.2.weight tensor(824, device='cuda:0')\n",
            "layers.2.bias tensor(10, device='cuda:0')\n"
          ],
          "name": "stdout"
        }
      ]
    },
    {
      "cell_type": "code",
      "metadata": {
        "id": "mr9Tc3ZrTtvQ",
        "colab_type": "code",
        "colab": {}
      },
      "source": [
        "def epoch(loader, model, opt=None):\n",
        "    \"\"\"Standard training/evaluation epoch over the dataset\"\"\"\n",
        "    total_loss, total_err = 0.,0.\n",
        "    for X,y in loader:\n",
        "        X,y = X.cuda(), y.cuda()\n",
        "        yp = model(X)\n",
        "        loss = nn.CrossEntropyLoss()(yp,y)\n",
        "        if opt:\n",
        "            opt.zero_grad()\n",
        "            loss.backward()\n",
        "            opt.step()\n",
        "        \n",
        "        total_err += (yp.max(dim=1)[1] != y).sum().item()\n",
        "        total_loss += loss.item() * X.shape[0]\n",
        "    return total_err / len(loader.dataset), total_loss / len(loader.dataset)"
      ],
      "execution_count": 0,
      "outputs": []
    },
    {
      "cell_type": "code",
      "metadata": {
        "id": "PfEGetJMTtvU",
        "colab_type": "code",
        "colab": {}
      },
      "source": [
        "err, loss = epoch(val_dl, trainer.model)"
      ],
      "execution_count": 0,
      "outputs": []
    },
    {
      "cell_type": "code",
      "metadata": {
        "id": "7vNg1pmQTtvX",
        "colab_type": "code",
        "colab": {
          "base_uri": "https://localhost:8080/",
          "height": 35
        },
        "outputId": "c171798d-83a7-4e44-b54a-90951e5219d5"
      },
      "source": [
        "1 - err"
      ],
      "execution_count": 46,
      "outputs": [
        {
          "output_type": "execute_result",
          "data": {
            "text/plain": [
              "0.9329"
            ]
          },
          "metadata": {
            "tags": []
          },
          "execution_count": 46
        }
      ]
    },
    {
      "cell_type": "code",
      "metadata": {
        "id": "cLNBTTLVTtvd",
        "colab_type": "code",
        "colab": {
          "base_uri": "https://localhost:8080/",
          "height": 1000
        },
        "outputId": "22b8c895-2082-430f-ba3f-43c20f422663"
      },
      "source": [
        "COMPRESSION_FACTORS = [0.1, 0.25, 0.50, 0.90, 0.98]\n",
        "BATCH_SAMPLING = [1, 10]\n",
        "ACCURACIES = []\n",
        "PARAMETERS = []\n",
        "for cf in COMPRESSION_FACTORS:\n",
        "  for bs in BATCH_SAMPLING:\n",
        "    net = Net(784, 300, 10)\n",
        "    prunner = Prunner(net, criterion, train_dl)\n",
        "    model, masks = prunner.prun(compression_factor=cf, num_batch_sampling=bs)\n",
        "    trainer = Train(model, [train_dl, val_dl], cuda=True)\n",
        "    trainer.train(1e-4, 3, 2, criterion, opt='adamW')\n",
        "    err, _ = epoch(val_dl, trainer.model)\n",
        "    ACCURACIES.append(1 - err)\n",
        "    PARAMETERS.append(sum([(w != 0).sum() for _, w in trainer.model.named_parameters()]))"
      ],
      "execution_count": 47,
      "outputs": [
        {
          "output_type": "display_data",
          "data": {
            "application/vnd.jupyter.widget-view+json": {
              "model_id": "99ddf2ed22cf4e9e9e1f69dd10384bf7",
              "version_minor": 0,
              "version_major": 2
            },
            "text/plain": [
              "HBox(children=(IntProgress(value=0, max=7), HTML(value='')))"
            ]
          },
          "metadata": {
            "tags": []
          }
        },
        {
          "output_type": "stream",
          "text": [
            "Train Loss 0.579240: 100%|██████████| 600/600 [00:10<00:00, 47.50it/s]\n",
            "Valid Loss 0.324463: 100%|██████████| 100/100 [00:01<00:00, 84.16it/s]\n",
            "Train Loss 0.225078: 100%|██████████| 600/600 [00:10<00:00, 57.50it/s]\n",
            "Valid Loss 0.152903: 100%|██████████| 100/100 [00:01<00:00, 84.49it/s]\n",
            "Train Loss 0.141308: 100%|██████████| 600/600 [00:10<00:00, 59.99it/s]\n",
            "Valid Loss 0.136242: 100%|██████████| 100/100 [00:01<00:00, 84.35it/s]\n",
            "Train Loss 0.116216: 100%|██████████| 600/600 [00:10<00:00, 58.96it/s]\n",
            "Valid Loss 0.097312: 100%|██████████| 100/100 [00:01<00:00, 82.90it/s]\n",
            "Train Loss 0.076728: 100%|██████████| 600/600 [00:10<00:00, 58.72it/s]\n",
            "Valid Loss 0.083073: 100%|██████████| 100/100 [00:01<00:00, 87.87it/s]\n",
            "Train Loss 0.056323: 100%|██████████| 600/600 [00:10<00:00, 49.96it/s]\n",
            "Valid Loss 0.077468: 100%|██████████| 100/100 [00:01<00:00, 85.16it/s]\n",
            "Train Loss 0.047678: 100%|██████████| 600/600 [00:10<00:00, 59.13it/s]\n",
            "Valid Loss 0.076484: 100%|██████████| 100/100 [00:01<00:00, 84.88it/s]\n"
          ],
          "name": "stderr"
        },
        {
          "output_type": "display_data",
          "data": {
            "application/vnd.jupyter.widget-view+json": {
              "model_id": "b6552500c233442d8347f3fd7080b8bb",
              "version_minor": 0,
              "version_major": 2
            },
            "text/plain": [
              "HBox(children=(IntProgress(value=0, max=7), HTML(value='')))"
            ]
          },
          "metadata": {
            "tags": []
          }
        },
        {
          "output_type": "stream",
          "text": [
            "Train Loss 0.551629: 100%|██████████| 600/600 [00:09<00:00, 50.76it/s]\n",
            "Valid Loss 0.311137: 100%|██████████| 100/100 [00:01<00:00, 87.80it/s]\n",
            "Train Loss 0.215195: 100%|██████████| 600/600 [00:10<00:00, 59.35it/s]\n",
            "Valid Loss 0.144761: 100%|██████████| 100/100 [00:01<00:00, 82.99it/s]\n",
            "Train Loss 0.135641: 100%|██████████| 600/600 [00:10<00:00, 50.01it/s]\n",
            "Valid Loss 0.130807: 100%|██████████| 100/100 [00:01<00:00, 84.64it/s]\n",
            "Train Loss 0.111491: 100%|██████████| 600/600 [00:10<00:00, 59.62it/s]\n",
            "Valid Loss 0.093668: 100%|██████████| 100/100 [00:01<00:00, 83.81it/s]\n",
            "Train Loss 0.072818: 100%|██████████| 600/600 [00:10<00:00, 50.36it/s]\n",
            "Valid Loss 0.079237: 100%|██████████| 100/100 [00:01<00:00, 83.51it/s]\n",
            "Train Loss 0.052689: 100%|██████████| 600/600 [00:10<00:00, 50.75it/s]\n",
            "Valid Loss 0.073805: 100%|██████████| 100/100 [00:01<00:00, 85.06it/s]\n",
            "Train Loss 0.044621: 100%|██████████| 600/600 [00:10<00:00, 50.15it/s]\n",
            "Valid Loss 0.073268: 100%|██████████| 100/100 [00:01<00:00, 81.44it/s]\n"
          ],
          "name": "stderr"
        },
        {
          "output_type": "display_data",
          "data": {
            "application/vnd.jupyter.widget-view+json": {
              "model_id": "59edb14f87e3494d9090b380c01f6732",
              "version_minor": 0,
              "version_major": 2
            },
            "text/plain": [
              "HBox(children=(IntProgress(value=0, max=7), HTML(value='')))"
            ]
          },
          "metadata": {
            "tags": []
          }
        },
        {
          "output_type": "stream",
          "text": [
            "Train Loss 0.568829: 100%|██████████| 600/600 [00:10<00:00, 58.90it/s]\n",
            "Valid Loss 0.322708: 100%|██████████| 100/100 [00:01<00:00, 81.98it/s]\n",
            "Train Loss 0.226664: 100%|██████████| 600/600 [00:10<00:00, 59.45it/s]\n",
            "Valid Loss 0.148147: 100%|██████████| 100/100 [00:01<00:00, 84.03it/s]\n",
            "Train Loss 0.140796: 100%|██████████| 600/600 [00:10<00:00, 58.85it/s]\n",
            "Valid Loss 0.131555: 100%|██████████| 100/100 [00:01<00:00, 84.33it/s]\n",
            "Train Loss 0.113898: 100%|██████████| 600/600 [00:10<00:00, 58.74it/s]\n",
            "Valid Loss 0.094995: 100%|██████████| 100/100 [00:01<00:00, 84.93it/s]\n",
            "Train Loss 0.074536: 100%|██████████| 600/600 [00:10<00:00, 59.33it/s]\n",
            "Valid Loss 0.078419: 100%|██████████| 100/100 [00:01<00:00, 84.14it/s]\n",
            "Train Loss 0.055034: 100%|██████████| 600/600 [00:10<00:00, 59.12it/s]\n",
            "Valid Loss 0.072654: 100%|██████████| 100/100 [00:01<00:00, 82.20it/s]\n",
            "Train Loss 0.046104: 100%|██████████| 600/600 [00:10<00:00, 59.08it/s]\n",
            "Valid Loss 0.072474: 100%|██████████| 100/100 [00:01<00:00, 86.85it/s]\n"
          ],
          "name": "stderr"
        },
        {
          "output_type": "display_data",
          "data": {
            "application/vnd.jupyter.widget-view+json": {
              "model_id": "57430cfa958a47999982076f2f83a439",
              "version_minor": 0,
              "version_major": 2
            },
            "text/plain": [
              "HBox(children=(IntProgress(value=0, max=7), HTML(value='')))"
            ]
          },
          "metadata": {
            "tags": []
          }
        },
        {
          "output_type": "stream",
          "text": [
            "Train Loss 0.564984: 100%|██████████| 600/600 [00:10<00:00, 59.11it/s]\n",
            "Valid Loss 0.319184: 100%|██████████| 100/100 [00:01<00:00, 81.79it/s]\n",
            "Train Loss 0.217199: 100%|██████████| 600/600 [00:10<00:00, 58.73it/s]\n",
            "Valid Loss 0.147742: 100%|██████████| 100/100 [00:01<00:00, 86.21it/s]\n",
            "Train Loss 0.135781: 100%|██████████| 600/600 [00:10<00:00, 59.24it/s]\n",
            "Valid Loss 0.131766: 100%|██████████| 100/100 [00:01<00:00, 84.77it/s]\n",
            "Train Loss 0.111096: 100%|██████████| 600/600 [00:10<00:00, 58.65it/s]\n",
            "Valid Loss 0.097672: 100%|██████████| 100/100 [00:01<00:00, 83.94it/s]\n",
            "Train Loss 0.071949: 100%|██████████| 600/600 [00:10<00:00, 50.36it/s]\n",
            "Valid Loss 0.080551: 100%|██████████| 100/100 [00:01<00:00, 87.24it/s]\n",
            "Train Loss 0.052584: 100%|██████████| 600/600 [00:10<00:00, 59.27it/s]\n",
            "Valid Loss 0.076655: 100%|██████████| 100/100 [00:01<00:00, 82.53it/s]\n",
            "Train Loss 0.043895: 100%|██████████| 600/600 [00:10<00:00, 58.92it/s]\n",
            "Valid Loss 0.075099: 100%|██████████| 100/100 [00:01<00:00, 81.62it/s]\n"
          ],
          "name": "stderr"
        },
        {
          "output_type": "display_data",
          "data": {
            "application/vnd.jupyter.widget-view+json": {
              "model_id": "d0ed001349694ab39fce6ba5b7f97a7c",
              "version_minor": 0,
              "version_major": 2
            },
            "text/plain": [
              "HBox(children=(IntProgress(value=0, max=7), HTML(value='')))"
            ]
          },
          "metadata": {
            "tags": []
          }
        },
        {
          "output_type": "stream",
          "text": [
            "Train Loss 0.597221: 100%|██████████| 600/600 [00:10<00:00, 50.61it/s]\n",
            "Valid Loss 0.335977: 100%|██████████| 100/100 [00:01<00:00, 87.54it/s]\n",
            "Train Loss 0.235150: 100%|██████████| 600/600 [00:10<00:00, 58.40it/s]\n",
            "Valid Loss 0.154408: 100%|██████████| 100/100 [00:01<00:00, 80.99it/s]\n",
            "Train Loss 0.150037: 100%|██████████| 600/600 [00:10<00:00, 57.80it/s]\n",
            "Valid Loss 0.137783: 100%|██████████| 100/100 [00:01<00:00, 84.33it/s]\n",
            "Train Loss 0.121238: 100%|██████████| 600/600 [00:10<00:00, 59.21it/s]\n",
            "Valid Loss 0.099244: 100%|██████████| 100/100 [00:01<00:00, 84.28it/s]\n",
            "Train Loss 0.081774: 100%|██████████| 600/600 [00:10<00:00, 58.15it/s]\n",
            "Valid Loss 0.083902: 100%|██████████| 100/100 [00:01<00:00, 82.72it/s]\n",
            "Train Loss 0.061101: 100%|██████████| 600/600 [00:10<00:00, 58.86it/s]\n",
            "Valid Loss 0.078120: 100%|██████████| 100/100 [00:01<00:00, 86.19it/s]\n",
            "Train Loss 0.052224: 100%|██████████| 600/600 [00:10<00:00, 59.08it/s]\n",
            "Valid Loss 0.077118: 100%|██████████| 100/100 [00:01<00:00, 84.25it/s]\n"
          ],
          "name": "stderr"
        },
        {
          "output_type": "display_data",
          "data": {
            "application/vnd.jupyter.widget-view+json": {
              "model_id": "051da34606ef4c2b9258f5004ffd6857",
              "version_minor": 0,
              "version_major": 2
            },
            "text/plain": [
              "HBox(children=(IntProgress(value=0, max=7), HTML(value='')))"
            ]
          },
          "metadata": {
            "tags": []
          }
        },
        {
          "output_type": "stream",
          "text": [
            "Train Loss 0.600702: 100%|██████████| 600/600 [00:10<00:00, 58.74it/s]\n",
            "Valid Loss 0.340123: 100%|██████████| 100/100 [00:01<00:00, 81.91it/s]\n",
            "Train Loss 0.235824: 100%|██████████| 600/600 [00:10<00:00, 59.31it/s]\n",
            "Valid Loss 0.155959: 100%|██████████| 100/100 [00:01<00:00, 81.26it/s]\n",
            "Train Loss 0.148497: 100%|██████████| 600/600 [00:10<00:00, 59.35it/s]\n",
            "Valid Loss 0.139545: 100%|██████████| 100/100 [00:01<00:00, 84.07it/s]\n",
            "Train Loss 0.120669: 100%|██████████| 600/600 [00:10<00:00, 48.96it/s]\n",
            "Valid Loss 0.098499: 100%|██████████| 100/100 [00:01<00:00, 86.76it/s]\n",
            "Train Loss 0.080130: 100%|██████████| 600/600 [00:10<00:00, 58.92it/s]\n",
            "Valid Loss 0.085373: 100%|██████████| 100/100 [00:01<00:00, 82.55it/s]\n",
            "Train Loss 0.061044: 100%|██████████| 600/600 [00:10<00:00, 58.95it/s]\n",
            "Valid Loss 0.078647: 100%|██████████| 100/100 [00:01<00:00, 86.74it/s]\n",
            "Train Loss 0.052978: 100%|██████████| 600/600 [00:10<00:00, 59.53it/s]\n",
            "Valid Loss 0.077972: 100%|██████████| 100/100 [00:01<00:00, 87.02it/s]\n"
          ],
          "name": "stderr"
        },
        {
          "output_type": "display_data",
          "data": {
            "application/vnd.jupyter.widget-view+json": {
              "model_id": "659b693530bb45889e88a6db200abacb",
              "version_minor": 0,
              "version_major": 2
            },
            "text/plain": [
              "HBox(children=(IntProgress(value=0, max=7), HTML(value='')))"
            ]
          },
          "metadata": {
            "tags": []
          }
        },
        {
          "output_type": "stream",
          "text": [
            "Train Loss 0.908646: 100%|██████████| 600/600 [00:10<00:00, 49.77it/s]\n",
            "Valid Loss 0.576039: 100%|██████████| 100/100 [00:01<00:00, 84.51it/s]\n",
            "Train Loss 0.384706: 100%|██████████| 600/600 [00:10<00:00, 49.91it/s]\n",
            "Valid Loss 0.252410: 100%|██████████| 100/100 [00:01<00:00, 84.50it/s]\n",
            "Train Loss 0.254255: 100%|██████████| 600/600 [00:10<00:00, 59.24it/s]\n",
            "Valid Loss 0.226386: 100%|██████████| 100/100 [00:01<00:00, 84.37it/s]\n",
            "Train Loss 0.201884: 100%|██████████| 600/600 [00:10<00:00, 58.96it/s]\n",
            "Valid Loss 0.152886: 100%|██████████| 100/100 [00:01<00:00, 82.25it/s]\n",
            "Train Loss 0.145404: 100%|██████████| 600/600 [00:10<00:00, 58.61it/s]\n",
            "Valid Loss 0.126134: 100%|██████████| 100/100 [00:01<00:00, 85.37it/s]\n",
            "Train Loss 0.122407: 100%|██████████| 600/600 [00:10<00:00, 59.62it/s]\n",
            "Valid Loss 0.117613: 100%|██████████| 100/100 [00:01<00:00, 85.71it/s]\n",
            "Train Loss 0.112847: 100%|██████████| 600/600 [00:10<00:00, 58.93it/s]\n",
            "Valid Loss 0.116246: 100%|██████████| 100/100 [00:01<00:00, 85.11it/s]\n"
          ],
          "name": "stderr"
        },
        {
          "output_type": "display_data",
          "data": {
            "application/vnd.jupyter.widget-view+json": {
              "model_id": "e6c0b267d2e34b6fa37dc67ecbeb82b9",
              "version_minor": 0,
              "version_major": 2
            },
            "text/plain": [
              "HBox(children=(IntProgress(value=0, max=7), HTML(value='')))"
            ]
          },
          "metadata": {
            "tags": []
          }
        },
        {
          "output_type": "stream",
          "text": [
            "Train Loss 0.899953: 100%|██████████| 600/600 [00:10<00:00, 59.58it/s]\n",
            "Valid Loss 0.563455: 100%|██████████| 100/100 [00:01<00:00, 84.70it/s]\n",
            "Train Loss 0.380311: 100%|██████████| 600/600 [00:10<00:00, 58.46it/s]\n",
            "Valid Loss 0.256279: 100%|██████████| 100/100 [00:01<00:00, 82.61it/s]\n",
            "Train Loss 0.255473: 100%|██████████| 600/600 [00:10<00:00, 50.41it/s]\n",
            "Valid Loss 0.229022: 100%|██████████| 100/100 [00:01<00:00, 87.09it/s]\n",
            "Train Loss 0.205060: 100%|██████████| 600/600 [00:10<00:00, 59.53it/s]\n",
            "Valid Loss 0.156413: 100%|██████████| 100/100 [00:01<00:00, 83.44it/s]\n",
            "Train Loss 0.147704: 100%|██████████| 600/600 [00:10<00:00, 58.61it/s]\n",
            "Valid Loss 0.129519: 100%|██████████| 100/100 [00:01<00:00, 83.77it/s]\n",
            "Train Loss 0.124054: 100%|██████████| 600/600 [00:10<00:00, 59.48it/s]\n",
            "Valid Loss 0.120353: 100%|██████████| 100/100 [00:01<00:00, 82.59it/s]\n",
            "Train Loss 0.115274: 100%|██████████| 600/600 [00:10<00:00, 57.92it/s]\n",
            "Valid Loss 0.119134: 100%|██████████| 100/100 [00:01<00:00, 84.70it/s]\n"
          ],
          "name": "stderr"
        },
        {
          "output_type": "display_data",
          "data": {
            "application/vnd.jupyter.widget-view+json": {
              "model_id": "2c70880424db44a084c8f07610953258",
              "version_minor": 0,
              "version_major": 2
            },
            "text/plain": [
              "HBox(children=(IntProgress(value=0, max=7), HTML(value='')))"
            ]
          },
          "metadata": {
            "tags": []
          }
        },
        {
          "output_type": "stream",
          "text": [
            "Train Loss 1.478377: 100%|██████████| 600/600 [00:10<00:00, 58.22it/s]\n",
            "Valid Loss 1.187216: 100%|██████████| 100/100 [00:01<00:00, 82.43it/s]\n",
            "Train Loss 0.798353: 100%|██████████| 600/600 [00:10<00:00, 59.08it/s]\n",
            "Valid Loss 0.552721: 100%|██████████| 100/100 [00:01<00:00, 84.52it/s]\n",
            "Train Loss 0.541047: 100%|██████████| 600/600 [00:10<00:00, 58.99it/s]\n",
            "Valid Loss 0.492757: 100%|██████████| 100/100 [00:01<00:00, 83.19it/s]\n",
            "Train Loss 0.429721: 100%|██████████| 600/600 [00:10<00:00, 59.01it/s]\n",
            "Valid Loss 0.332853: 100%|██████████| 100/100 [00:01<00:00, 81.86it/s]\n",
            "Train Loss 0.332341: 100%|██████████| 600/600 [00:10<00:00, 59.09it/s]\n",
            "Valid Loss 0.280423: 100%|██████████| 100/100 [00:01<00:00, 85.15it/s]\n",
            "Train Loss 0.295493: 100%|██████████| 600/600 [00:10<00:00, 50.33it/s]\n",
            "Valid Loss 0.262048: 100%|██████████| 100/100 [00:01<00:00, 84.51it/s]\n",
            "Train Loss 0.283006: 100%|██████████| 600/600 [00:10<00:00, 59.61it/s]\n",
            "Valid Loss 0.260017: 100%|██████████| 100/100 [00:01<00:00, 81.85it/s]\n"
          ],
          "name": "stderr"
        },
        {
          "output_type": "display_data",
          "data": {
            "application/vnd.jupyter.widget-view+json": {
              "model_id": "d77dc6a293834d1c897632cf112f2c01",
              "version_minor": 0,
              "version_major": 2
            },
            "text/plain": [
              "HBox(children=(IntProgress(value=0, max=7), HTML(value='')))"
            ]
          },
          "metadata": {
            "tags": []
          }
        },
        {
          "output_type": "stream",
          "text": [
            "Train Loss 1.351790: 100%|██████████| 600/600 [00:10<00:00, 58.85it/s]\n",
            "Valid Loss 1.023331: 100%|██████████| 100/100 [00:01<00:00, 82.19it/s]\n",
            "Train Loss 0.699126: 100%|██████████| 600/600 [00:10<00:00, 58.77it/s]\n",
            "Valid Loss 0.486799: 100%|██████████| 100/100 [00:01<00:00, 83.76it/s]\n",
            "Train Loss 0.478460: 100%|██████████| 600/600 [00:10<00:00, 59.15it/s]\n",
            "Valid Loss 0.436088: 100%|██████████| 100/100 [00:01<00:00, 86.20it/s]\n",
            "Train Loss 0.384783: 100%|██████████| 600/600 [00:10<00:00, 49.11it/s]\n",
            "Valid Loss 0.300667: 100%|██████████| 100/100 [00:01<00:00, 82.35it/s]\n",
            "Train Loss 0.297129: 100%|██████████| 600/600 [00:10<00:00, 58.54it/s]\n",
            "Valid Loss 0.257974: 100%|██████████| 100/100 [00:01<00:00, 88.33it/s]\n",
            "Train Loss 0.265162: 100%|██████████| 600/600 [00:10<00:00, 59.55it/s]\n",
            "Valid Loss 0.241354: 100%|██████████| 100/100 [00:01<00:00, 86.30it/s]\n",
            "Train Loss 0.254860: 100%|██████████| 600/600 [00:10<00:00, 59.37it/s]\n",
            "Valid Loss 0.239391: 100%|██████████| 100/100 [00:01<00:00, 85.39it/s]\n"
          ],
          "name": "stderr"
        }
      ]
    },
    {
      "cell_type": "code",
      "metadata": {
        "id": "cxuP8q2qYEUg",
        "colab_type": "code",
        "colab": {
          "base_uri": "https://localhost:8080/",
          "height": 35
        },
        "outputId": "fd11d7c7-b2ae-47a5-aecb-6ffc0268842f"
      },
      "source": [
        "ACCURACIES"
      ],
      "execution_count": 48,
      "outputs": [
        {
          "output_type": "execute_result",
          "data": {
            "text/plain": [
              "[0.9774, 0.977, 0.9779, 0.9779, 0.9774, 0.9767, 0.9669, 0.9669, 0.9301, 0.9369]"
            ]
          },
          "metadata": {
            "tags": []
          },
          "execution_count": 48
        }
      ]
    },
    {
      "cell_type": "code",
      "metadata": {
        "id": "SHCpbZwsbWQg",
        "colab_type": "code",
        "colab": {
          "base_uri": "https://localhost:8080/",
          "height": 191
        },
        "outputId": "4846ac3e-47eb-47c8-c955-d3b84e957033"
      },
      "source": [
        "PARAMETERS"
      ],
      "execution_count": 49,
      "outputs": [
        {
          "output_type": "execute_result",
          "data": {
            "text/plain": [
              "[tensor(230229, device='cuda:0'),\n",
              " tensor(264825, device='cuda:0'),\n",
              " tensor(228164, device='cuda:0'),\n",
              " tensor(247959, device='cuda:0'),\n",
              " tensor(165905, device='cuda:0'),\n",
              " tensor(165896, device='cuda:0'),\n",
              " tensor(34582, device='cuda:0'),\n",
              " tensor(34570, device='cuda:0'),\n",
              " tensor(8230, device='cuda:0'),\n",
              " tensor(8213, device='cuda:0')]"
            ]
          },
          "metadata": {
            "tags": []
          },
          "execution_count": 49
        }
      ]
    },
    {
      "cell_type": "code",
      "metadata": {
        "id": "wVEr3DIEbaBU",
        "colab_type": "code",
        "colab": {}
      },
      "source": [
        ""
      ],
      "execution_count": 0,
      "outputs": []
    }
  ]
}